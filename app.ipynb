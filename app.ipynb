{
 "cells": [
  {
   "cell_type": "code",
   "execution_count": 1,
   "metadata": {},
   "outputs": [
    {
     "ename": "ModuleNotFoundError",
     "evalue": "No module named 'streamlit'",
     "output_type": "error",
     "traceback": [
      "\u001b[1;31m---------------------------------------------------------------------------\u001b[0m",
      "\u001b[1;31mModuleNotFoundError\u001b[0m                       Traceback (most recent call last)",
      "Cell \u001b[1;32mIn[1], line 1\u001b[0m\n\u001b[1;32m----> 1\u001b[0m \u001b[38;5;28;01mimport\u001b[39;00m \u001b[38;5;21;01mstreamlit\u001b[39;00m \u001b[38;5;28;01mas\u001b[39;00m \u001b[38;5;21;01mst\u001b[39;00m\n\u001b[0;32m      2\u001b[0m \u001b[38;5;28;01mimport\u001b[39;00m \u001b[38;5;21;01mpickle\u001b[39;00m\n\u001b[0;32m      3\u001b[0m \u001b[38;5;28;01mimport\u001b[39;00m \u001b[38;5;21;01mtensorflow\u001b[39;00m \u001b[38;5;28;01mas\u001b[39;00m \u001b[38;5;21;01mtf\u001b[39;00m    \n",
      "\u001b[1;31mModuleNotFoundError\u001b[0m: No module named 'streamlit'"
     ]
    }
   ],
   "source": [
    "import streamlit as st\n",
    "import pickle\n",
    "import tensorflow as tf    \n",
    "import re\n",
    "import pandas as pd\n",
    "from nltk.corpus import stopwords\n",
    "from nltk.stem import WordNetLemmatizer\n",
    "from nltk.tokenize import word_tokenize\n",
    "import nltk\n",
    "\n",
    "nltk.download('punkt')\n",
    "nltk.download('stopwords')\n",
    "nltk.download('wordnet')"
   ]
  },
  {
   "cell_type": "code",
   "execution_count": null,
   "metadata": {},
   "outputs": [],
   "source": [
    "\n",
    "# Function to load the model\n",
    "def load_model(model_name):\n",
    "    with open(model_name, 'rb') as file:\n",
    "        return pickle.load(file)\n",
    "    \n",
    "def preprocess_input(email_body, sender):\n",
    "    with open('preprocessing_pipeline.pkl', 'rb') as handle:\n",
    "        pipeline = pickle.load(handle)\n",
    "    return pipeline.transform([email_body, sender])"
   ]
  },
  {
   "cell_type": "code",
   "execution_count": null,
   "metadata": {},
   "outputs": [],
   "source": [
    "\n",
    "# Streamlit page configuration\n",
    "st.set_page_config(page_title=\"Email Phishing Detection\", layout=\"wide\")\n",
    "\n",
    "# Title\n",
    "st.title(\"Email Phishing Detection\")\n",
    "\n",
    "# Model Selection\n",
    "model_option = st.sidebar.selectbox(\n",
    "    \"Choose a Model\",\n",
    "    (\"Albert Model\", \"Other Model\")  # List other models if you have\n",
    ")\n",
    "\n",
    "# Load the selected model\n",
    "if model_option == \"Albert Model\":\n",
    "    model = load_model('albert_model.pkl')\n",
    "else:\n",
    "    model = load_model('other_model.pkl')  # Replace with your actual model file\n",
    "\n",
    "# Email input fields\n",
    "st.subheader(\"Email Details\")\n",
    "sender = st.text_input(\"Sender\", value=\"\", placeholder=\"Unknown\")\n",
    "email_body = st.text_area(\"Email Body\", height=250)\n",
    "\n",
    "# Predict button\n",
    "if st.button(\"Predict\"):\n",
    "    processed_input = preprocess_input(email_body, sender)\n",
    "    prediction = model.predict(processed_input)\n",
    "\n",
    "    # Display the prediction\n",
    "    if prediction[0] > 0.5:\n",
    "        st.error(\"This email is likely a phishing attempt.\")\n",
    "    else:\n",
    "        st.success(\"This email seems safe.\")"
   ]
  }
 ],
 "metadata": {
  "kernelspec": {
   "display_name": "base",
   "language": "python",
   "name": "python3"
  },
  "language_info": {
   "codemirror_mode": {
    "name": "ipython",
    "version": 3
   },
   "file_extension": ".py",
   "mimetype": "text/x-python",
   "name": "python",
   "nbconvert_exporter": "python",
   "pygments_lexer": "ipython3",
   "version": "3.9.18"
  }
 },
 "nbformat": 4,
 "nbformat_minor": 2
}
